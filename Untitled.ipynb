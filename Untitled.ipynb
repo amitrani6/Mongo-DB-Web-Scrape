{
 "cells": [
  {
   "cell_type": "code",
   "execution_count": null,
   "metadata": {},
   "outputs": [],
   "source": [
    "amazon_tvs_url = 'https://www.amazon.com/s?rh=n%3A172282%2Cn%3A%21493964%2Cn%3A1266092011%2Cn%3A172659&page=13&qid=1564698515&ref=lp_172659_pg_2'\n",
    "\n",
    "amazon_page_url_tv_html = requests.get(amazon_tvs_url, headers=headers, timeout=5).text\n",
    "amazon_page_url_tv_content = BeautifulSoup(str(BeautifulSoup(amazon_page_url_tv_html, 'html.parser')), 'html.parser')\n",
    "\n",
    "\n",
    "page_list_of_tv = amazon_page_url_tv_content.find('div', class_ = 's-result-list s-search-results sg-row')\n",
    "\n",
    "\n",
    "\n",
    "page_list_of_tv_urls = page_list_of_tv.find_all('a', class_ = 'a-link-normal a-text-normal')\n",
    "\n",
    "len(page_list_of_tv_urls[:24])\n",
    "\n",
    "\n",
    "\n",
    "page_list_of_tv_urls[23]['href']"
   ]
  }
 ],
 "metadata": {
  "kernelspec": {
   "display_name": "Python 3",
   "language": "python",
   "name": "python3"
  },
  "language_info": {
   "codemirror_mode": {
    "name": "ipython",
    "version": 3
   },
   "file_extension": ".py",
   "mimetype": "text/x-python",
   "name": "python",
   "nbconvert_exporter": "python",
   "pygments_lexer": "ipython3",
   "version": "3.7.2"
  }
 },
 "nbformat": 4,
 "nbformat_minor": 2
}
