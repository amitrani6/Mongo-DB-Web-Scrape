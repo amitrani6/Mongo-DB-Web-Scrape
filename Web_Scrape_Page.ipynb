{
 "cells": [
  {
   "cell_type": "markdown",
   "metadata": {},
   "source": [
    "# Web Scrape Amazon Page Notebook\n",
    "I will be web scraping the data that will go into a MongoDB database."
   ]
  },
  {
   "cell_type": "code",
   "execution_count": 1,
   "metadata": {},
   "outputs": [],
   "source": [
    "#Imports the BeautifulSoup module from library bs4\n",
    "import requests\n",
    "from bs4 import BeautifulSoup\n",
    "headers = {'user-agent': 'Mozilla/5.0 (Macintosh; Intel Mac OS X 10_11_6) AppleWebKit/537.36 (KHTML, like Gecko) Chrome/53.0.2785.143 Safari/537.36'}"
   ]
  },
  {
   "cell_type": "code",
   "execution_count": 2,
   "metadata": {},
   "outputs": [],
   "source": [
    "import pymongo\n",
    "\n",
    "client = pymongo.MongoClient(\"mongodb://127.0.0.1:27017/\")\n",
    "db = client['television_data']"
   ]
  },
  {
   "cell_type": "code",
   "execution_count": 3,
   "metadata": {},
   "outputs": [
    {
     "data": {
      "text/plain": [
       "['example_database', 'lab_db', 'local', 'television_data', 'test']"
      ]
     },
     "execution_count": 3,
     "metadata": {},
     "output_type": "execute_result"
    }
   ],
   "source": [
    "client.list_database_names()"
   ]
  },
  {
   "cell_type": "code",
   "execution_count": 4,
   "metadata": {},
   "outputs": [],
   "source": [
    "#Create a collection (table) to store the product information\n",
    "product_info_collection = db['product_information']"
   ]
  },
  {
   "cell_type": "code",
   "execution_count": 5,
   "metadata": {},
   "outputs": [
    {
     "data": {
      "text/plain": [
       "0"
      ]
     },
     "execution_count": 5,
     "metadata": {},
     "output_type": "execute_result"
    }
   ],
   "source": [
    "product_info_collection.count_documents({})"
   ]
  },
  {
   "cell_type": "markdown",
   "metadata": {},
   "source": [
    "# Webscrape Part 1: Obtain Individual Item Links\n",
    "\n",
    "## Part A: Obtain The First Page of Results\n",
    "\n",
    "I will be web scraping Amazon's most featured televisions page. I will first store the urls of each individual television.\n",
    "\n",
    "The first results page has a different format than the following pages. I will not create a function for the first page because of this reason.\n",
    "\n",
    "After I obtain the first few links I will add them to a new MongoDB collection.\n",
    "\n",
    "Sometimes Amazon puts sponsored links in the results on the first page, this can be detected by the length of the results list."
   ]
  },
  {
   "cell_type": "code",
   "execution_count": 6,
   "metadata": {},
   "outputs": [],
   "source": [
    "#The link to the first page of results for televisions on Amazon, sorted by the default \"Featured\" option\n",
    "amazon_first_page_url_tvs = 'https://www.amazon.com/s/ref=lp_1266092011_nr_n_12?fst=as%3Aoff&rh=n%3A172282%2Cn%3A%21493964%2Cn%3A1266092011%2Cn%3A172659&bbn=1266092011&ie=UTF8&qid=1564525104&rnid=1266092011'\n"
   ]
  },
  {
   "cell_type": "code",
   "execution_count": 7,
   "metadata": {},
   "outputs": [
    {
     "name": "stdout",
     "output_type": "stream",
     "text": [
      "Attempts to load first page : 1\n",
      "Attempts to load first page : 2\n"
     ]
    }
   ],
   "source": [
    "length_first_page_html_split_by_result = 0\n",
    "\n",
    "attempts_count = 1\n",
    "\n",
    "while length_first_page_html_split_by_result != 25:\n",
    "\n",
    "    #Access the first page of search results for televisions on Amazon\n",
    "    amazon_first_page_url_tvs_html = requests.get(amazon_first_page_url_tvs, headers=headers, timeout=5).text #it will keep trying at this stage, the loop will not continue to iterate until a response is given\n",
    "    amazon_first_page_url_tvs_content = BeautifulSoup(amazon_first_page_url_tvs_html, 'html.parser')\n",
    "\n",
    "    first_page_html_split_by_result = str(amazon_first_page_url_tvs_content).split('result_')\n",
    "    length_first_page_html_split_by_result = len(first_page_html_split_by_result)\n",
    "    \n",
    "    print(\"Attempts to load first page : {}\".format(attempts_count))\n",
    "    attempts_count += 1\n",
    "    \n",
    "    "
   ]
  },
  {
   "cell_type": "code",
   "execution_count": 8,
   "metadata": {},
   "outputs": [],
   "source": [
    "first_page_tv_links = []\n",
    "\n",
    "for i in first_page_html_split_by_result[1:]:\n",
    "    \n",
    "    tv_link = BeautifulSoup(i, 'html.parser').find('a', class_=\"a-link-normal a-text-normal\")['href'].split('/ref')[0]\n",
    "    \n",
    "    first_page_tv_links.append({'url': tv_link})\n",
    "    "
   ]
  },
  {
   "cell_type": "code",
   "execution_count": 9,
   "metadata": {
    "scrolled": true
   },
   "outputs": [
    {
     "data": {
      "text/plain": [
       "24"
      ]
     },
     "execution_count": 9,
     "metadata": {},
     "output_type": "execute_result"
    }
   ],
   "source": [
    "len(first_page_tv_links)"
   ]
  },
  {
   "cell_type": "markdown",
   "metadata": {},
   "source": [
    "## Part B: Add The First Page Of Results To Mongo"
   ]
  },
  {
   "cell_type": "code",
   "execution_count": 10,
   "metadata": {},
   "outputs": [],
   "source": [
    "insertion_results = product_info_collection.insert_many(first_page_tv_links)"
   ]
  },
  {
   "cell_type": "code",
   "execution_count": 12,
   "metadata": {},
   "outputs": [
    {
     "name": "stdout",
     "output_type": "stream",
     "text": [
      "{'url': 'https://www.amazon.com/Toshiba-32LF221U19-32-inch-720p-Smart/dp/B07FPR6FMJ'}\n",
      "{'url': 'https://www.amazon.com/TCL-50S425-inch-Smart-Roku/dp/B07JK98NNQ'}\n",
      "{'url': 'https://www.amazon.com/Insignia-NS-50DF710NA19-50-inch-Ultra-Smart/dp/B07FPQ343D'}\n",
      "{'url': 'https://www.amazon.com/TCL-32S325-Inch-720p-Smart/dp/B07G9XZ83W'}\n",
      "{'url': 'https://www.amazon.com/Samsung-UN65RU7100FXZA-Flat-UHD-Smart/dp/B07NC96MBL'}\n"
     ]
    }
   ],
   "source": [
    "query_1 = product_info_collection.find({}, {'_id': 0, 'url': 1})\n",
    "for item in query_1[:5]:\n",
    "    print(item)"
   ]
  },
  {
   "cell_type": "markdown",
   "metadata": {},
   "source": [
    "# Web Scrape Part 2: Obtain The Subsequent Pages of Results"
   ]
  },
  {
   "cell_type": "code",
   "execution_count": 13,
   "metadata": {},
   "outputs": [],
   "source": [
    "def return_page_tv_links(url):\n",
    "    \n",
    "    amazon_page_tv_html = requests.get(url, headers=headers, timeout=5).text\n",
    "    amazon_page_tv_html_content = BeautifulSoup(str(BeautifulSoup(amazon_page_tv_html, 'html.parser')), 'html.parser')\n",
    "\n",
    "    html_tv_urls = amazon_page_tv_html_content.find('div', class_ = 's-result-list s-search-results sg-row')\n",
    "    html_list_of_tv_urls = html_tv_urls.find_all('a', class_ = 'a-link-normal a-text-normal')\n",
    "    html_list_of_tv_urls = html_list_of_tv_urls[:24]\n",
    "    \n",
    "    list_of_dictionaries_of_television_urls = []\n",
    "    \n",
    "    for i in html_list_of_tv_urls:\n",
    "        list_of_dictionaries_of_television_urls.append({'url': 'https://www.amazon.com' + i['href'].split('/ref')[0]})\n",
    "    \n",
    "    return list_of_dictionaries_of_television_urls"
   ]
  },
  {
   "cell_type": "code",
   "execution_count": 14,
   "metadata": {
    "scrolled": true
   },
   "outputs": [
    {
     "data": {
      "text/plain": [
       "{'url': 'https://www.amazon.com/LG-86UM8070-LG86UM8070PUA-86UM8070PUA-86UM8070P/dp/B07Q2T13PX'}"
      ]
     },
     "execution_count": 14,
     "metadata": {},
     "output_type": "execute_result"
    }
   ],
   "source": [
    "return_page_tv_links('https://www.amazon.com/s?rh=n%3A172282%2Cn%3A%21493964%2Cn%3A1266092011%2Cn%3A172659&page=13&qid=1564698515&ref=lp_172659_pg_2')[0]"
   ]
  },
  {
   "cell_type": "code",
   "execution_count": 15,
   "metadata": {},
   "outputs": [],
   "source": [
    "def obtain_urls(start_page = False, end_page = False):\n",
    "    amazon_tvs_url = 'https://www.amazon.com/s?rh=n%3A172282%2Cn%3A%21493964%2Cn%3A1266092011%2Cn%3A172659&page={}&qid=1564698515&ref=lp_172659_pg_2'\n",
    "    \n",
    "    if not start_page:\n",
    "        start_page = 2\n",
    "        \n",
    "    if not end_page:\n",
    "        end_page = 100\n",
    "    \n",
    "    for i in range(start_page, end_page+1):\n",
    "        one_page_of_amazon_tvs_url = amazon_tvs_url.format(str(i))\n",
    "        product_info_collection.insert_many(return_page_tv_links(one_page_of_amazon_tvs_url))\n",
    "        print('The total number of tv urls added are: {}'.format(product_info_collection.count_documents({})))"
   ]
  },
  {
   "cell_type": "code",
   "execution_count": 16,
   "metadata": {
    "scrolled": false
   },
   "outputs": [
    {
     "name": "stdout",
     "output_type": "stream",
     "text": [
      "The total number of tv urls added are: 48\n",
      "The total number of tv urls added are: 72\n",
      "The total number of tv urls added are: 96\n",
      "The total number of tv urls added are: 120\n"
     ]
    }
   ],
   "source": [
    "obtain_urls(start_page = 0, end_page = 5)"
   ]
  },
  {
   "cell_type": "markdown",
   "metadata": {},
   "source": [
    "# Web Scrape Part 3: Obtaining Product Information From The Product Page"
   ]
  },
  {
   "cell_type": "code",
   "execution_count": 17,
   "metadata": {},
   "outputs": [
    {
     "name": "stdout",
     "output_type": "stream",
     "text": [
      "{'_id': ObjectId('5d43e4c5a670babf07e50c6e'), 'url': 'https://www.amazon.com/Toshiba-32LF221U19-32-inch-720p-Smart/dp/B07FPR6FMJ'}\n",
      "{'_id': ObjectId('5d43e4c5a670babf07e50c6f'), 'url': 'https://www.amazon.com/TCL-50S425-inch-Smart-Roku/dp/B07JK98NNQ'}\n",
      "{'_id': ObjectId('5d43e4c5a670babf07e50c70'), 'url': 'https://www.amazon.com/Insignia-NS-50DF710NA19-50-inch-Ultra-Smart/dp/B07FPQ343D'}\n",
      "{'_id': ObjectId('5d43e4c5a670babf07e50c71'), 'url': 'https://www.amazon.com/TCL-32S325-Inch-720p-Smart/dp/B07G9XZ83W'}\n",
      "{'_id': ObjectId('5d43e4c5a670babf07e50c72'), 'url': 'https://www.amazon.com/Samsung-UN65RU7100FXZA-Flat-UHD-Smart/dp/B07NC96MBL'}\n"
     ]
    }
   ],
   "source": [
    "for i in product_info_collection.find({}).limit( 5 ):\n",
    "    print(i)"
   ]
  },
  {
   "cell_type": "code",
   "execution_count": 18,
   "metadata": {},
   "outputs": [],
   "source": [
    "def obtain_product_info_dict(tv_url):\n",
    "    individual_tv_page = requests.get(tv_url, headers=headers, timeout=5).text\n",
    "    individual_tv_page_content = BeautifulSoup(str(BeautifulSoup(individual_tv_page, 'html.parser')), 'html.parser')\n",
    "    \n",
    "    product_info_dict = {}\n",
    "    \n",
    "    price_number_with_spaces = individual_tv_page_content.find(class_ = 'a-size-medium a-color-price')\n",
    "    \n",
    "    try:\n",
    "        price_number = float(price_number_with_spaces.text.split('$')[1].split(\"\\n\")[0])\n",
    "    except:\n",
    "        price_number = 'None'\n",
    "        \n",
    "    product_info_dict['price'] = price_number\n",
    "            \n",
    "    \n",
    "    tech_specs_table = individual_tv_page_content.find('table', class_ = 'a-keyvalue prodDetTable')\n",
    "    \n",
    "    \n",
    "    for i in range(0, len(tech_specs_table.find_all('th'))):\n",
    "        \n",
    "        try:\n",
    "            tech_key = tech_specs_table.find_all('th')[i].text.split('\\n')[1].split('  ')[-1]\n",
    "            tech_value = tech_specs_table.find_all('td')[i].text.split('\\n')[1].split('  ')[-1]\n",
    "    \n",
    "            product_info_dict[tech_key] = tech_value\n",
    "        except:\n",
    "            pass\n",
    "        \n",
    "    return product_info_dict"
   ]
  },
  {
   "cell_type": "code",
   "execution_count": 19,
   "metadata": {},
   "outputs": [
    {
     "data": {
      "text/plain": [
       "{'price': 179.99,\n",
       " 'Brand Name': 'Toshiba',\n",
       " 'Item Weight': '10.6 pounds',\n",
       " 'Product Dimensions': '7.1 x 29 x 18.6 inches',\n",
       " 'Item model number': '32LF221U19',\n",
       " 'Batteries': '2 AAA batteries required. (included)'}"
      ]
     },
     "execution_count": 19,
     "metadata": {},
     "output_type": "execute_result"
    }
   ],
   "source": [
    "obtain_product_info_dict('https://www.amazon.com/Toshiba-32LF221U19-32-inch-720p-Smart/dp/B07FPR6FMJ')"
   ]
  },
  {
   "cell_type": "code",
   "execution_count": 20,
   "metadata": {},
   "outputs": [
    {
     "data": {
      "text/plain": [
       "{'price': 104.99,\n",
       " 'Product Dimensions': '24.6 x 4.4 x 16.3 inches',\n",
       " 'Item Weight': '6.17 pounds',\n",
       " 'Shipping Weight': '9.1 pounds (View shipping rates and policies)',\n",
       " 'ASIN': 'B07P1NFNKX',\n",
       " 'Batteries': '2 AAA batteries required.',\n",
       " 'Best Sellers Rank': '',\n",
       " 'Date first listed on Amazon': 'February 24, 2019'}"
      ]
     },
     "execution_count": 20,
     "metadata": {},
     "output_type": "execute_result"
    }
   ],
   "source": [
    "obtain_product_info_dict('https://www.amazon.com/VIZIO-Class-LED-HDTV-Smart/dp/B07P1NFNKX')"
   ]
  },
  {
   "cell_type": "markdown",
   "metadata": {},
   "source": [
    "# Update The MongoDB With Product Information"
   ]
  },
  {
   "cell_type": "code",
   "execution_count": 21,
   "metadata": {},
   "outputs": [
    {
     "name": "stdout",
     "output_type": "stream",
     "text": [
      "{'price': 179.99, 'Brand Name': 'Toshiba', 'Item Weight': '10.6 pounds', 'Product Dimensions': '7.1 x 29 x 18.6 inches', 'Item model number': '32LF221U19', 'Batteries': '2 AAA batteries required. (included)'}\n",
      "{'price': 'None', 'Brand Name': 'TCL', 'Item Weight': '23.6 pounds', 'Product Dimensions': '44.1 x 8 x 28 inches', 'Item model number': '50S425', 'Batteries': '2 AAA batteries required.'}\n",
      "{'price': 299.99, 'Brand Name': 'Insignia', 'Item Weight': '25.8 pounds', 'Product Dimensions': '10.4 x 44.4 x 27.8 inches', 'Item model number': 'NS-50DF710NA19', 'Batteries': '2 AAA batteries required. (included)'}\n",
      "{'price': 129.99, 'Brand Name': 'TCL', 'Item Weight': '8.6 pounds', 'Product Dimensions': '28.8 x 6.8 x 19 inches', 'Item model number': '32S325', 'Batteries': '2 AAA batteries required. (included)'}\n",
      "{'price': 697.99, 'Brand Name': 'Samsung', 'Item Weight': '58.2 pounds', 'Product Dimensions': '12.3 x 57.4 x 36.1 inches', 'California residents': 'Click here for Proposition 65 warning', 'Item model number': 'UN65RU7100FXZA', 'Color Name': 'Black'}\n",
      "{'price': 'None', 'Brand Name': 'TCL', 'Item Weight': '18.8 pounds', 'Product Dimensions': '37.8 x 8.4 x 24 inches', 'Item model number': '43S517', 'Batteries': '2 AAA batteries required. (included)'}\n",
      "{'price': 748.0, 'Brand Name': 'Sony', 'Item Weight': '47 pounds', 'Product Dimensions': '53 x 6.3 x 32.4 inches', 'California residents': 'Click here for Proposition 65 warning', 'Item model number': 'KD55X750F', 'Batteries': '2 AA batteries required. (included)', 'Color Name': 'Black', 'Specification Met': '(unset)'}\n",
      "{'price': 435.12, 'Brand Name': 'LG', 'Item Weight': '31.3 pounds', 'Product Dimensions': '9.1 x 49 x 28.6 inches', 'California residents': 'Click here for Proposition 65 warning', 'Item model number': '55UM7300PUA'}\n",
      "{'price': 'None', 'Brand Name': 'Sony', 'Item Weight': '63 pounds', 'Product Dimensions': '71.1 x 7.9 x 40.3 inches', 'California residents': 'Click here for Proposition 65 warning', 'Item model number': 'XBR70X830F', 'Batteries': '2 AA batteries required. (included)'}\n",
      "{'price': 'None', 'Brand Name': 'Samsung', 'Item Weight': '30.6 pounds', 'Product Dimensions': '44.3 x 10.3 x 28.7 inches', 'Item model number': 'UN50NU7100FXZA', 'Batteries': '2 AAA batteries required.', 'Color Name': 'Charcoal Black', 'Specification Met': '(unset)'}\n",
      "{'price': 528.98, 'Brand Name': 'TCL', 'Item Weight': '38.2 pounds', 'Product Dimensions': '48.5 x 10.7 x 30.9 inches', 'Item model number': '55R617', 'Batteries': '2 AAA batteries required. (included)'}\n",
      "{'price': 'None', 'Brand Name': 'Samsung', 'Item Weight': '54.7 pounds', 'Product Dimensions': '56.9 x 11.2 x 35.8 inches', 'Item model number': 'QN65Q6FNAFXZA', 'Batteries': '2 AAA batteries required.'}\n",
      "{'price': 'None', 'Brand Name': 'Samsung', 'Item Weight': '74.1 pounds', 'Product Dimensions': '2.4 x 57.1 x 32.7 inches', 'California residents': 'Click here for Proposition 65 warning', 'Item model number': 'QN65Q70RAFXZA', 'Color Name': 'Black'}\n",
      "{'price': 139.99, 'Brand Name': 'Sceptre', 'Item Weight': '14.2 pounds', 'Product Dimensions': '35.9 x 7.9 x 21.9 inches', 'Item model number': 'X415BV-FSR', 'Batteries': '2 AAA batteries required. (included)', 'Color Name': 'True black', 'Specification Met': 'Energy Star', 'Special Features': 'MHL, Wall Mountable', 'Speaker Type': 'Built-in'}\n",
      "{'price': 'None', 'Brand Name': 'LG', 'Item Weight': '56 pounds', 'Product Dimensions': '9.1 x 57 x 34.7 inches', 'California residents': 'Click here for Proposition 65 warning', 'Item model number': 'OLED65C8PUA', 'Batteries': '2 AAA batteries required. (included)', 'Color Name': 'Black'}\n",
      "{'price': 'None', 'Brand Name': 'Sony', 'Item Weight': '65 pounds', 'Product Dimensions': '61.6 x 7.9 x 33.4 inches', 'California residents': 'Click here for Proposition 65 warning', 'Item model number': 'XBR65X850F', 'Batteries': '2 AA batteries required. (included)', 'Color Name': 'Black', 'Specification Met': '(unset)'}\n",
      "{'price': 697.99, 'Brand Name': 'Samsung', 'Item Weight': '41.7 pounds', 'Product Dimensions': '9.3 x 48.7 x 30.6 inches', 'California residents': 'Click here for Proposition 65 warning', 'Item model number': 'UN55RU8000FXZA', 'Batteries': '2 AAA batteries required.', 'Color Name': 'Gray'}\n",
      "{'price': 199.99, 'Brand Name': 'Sceptre', 'Item Weight': '24.9 pounds', 'Product Dimensions': '44.2 x 8.5 x 27.6 inches', 'Item model number': 'X515BV-FSR', 'Batteries': '2 AAA batteries required. (included)', 'Color Name': 'Just black', 'Specification Met': 'Energy Star', 'Special Features': 'USB, VESA Wall Mount', 'Speaker Type': 'Built-in'}\n",
      "{'price': 139.99, 'Brand Name': 'Sceptre', 'Item Weight': '15.2 pounds', 'Product Dimensions': '38 x 2.7 x 5.9 inches', 'Item model number': 'X438BV-FSRR', 'Batteries': '2 AAA batteries required. (included)', 'Color Name': 'Metal black', 'Special Features': 'MEMC 120 (Motion Estimation and Motion Compensation), VESA Wall Mount', 'Speaker Type': 'Built-in'}\n",
      "{'price': 'None', 'Brand Name': 'Samsung', 'Item Weight': '51 pounds', 'Product Dimensions': '57.2 x 32.7 x 1.7 inches', 'California residents': 'Click here for Proposition 65 warning', 'Item model number': 'QN65LS03RAFXZA', 'Color Name': 'Black'}\n",
      "{'price': 88.0, 'Brand Name': 'ELEMENT', 'Item Weight': '9.5 pounds', 'Product Dimensions': '28.8 x 7.1 x 18.4 inches', 'Item model number': 'ELEFW328R', 'Output Wattage': '8 watts', 'Speaker Type': 'Built-In'}\n",
      "{'price': 129.99, 'Brand Name': 'TCL', 'Item Weight': '7.5 pounds', 'Product Dimensions': '25.3 x 7.3 x 17.1 inches', 'Item model number': '28S305', 'Batteries': '2 AAA batteries required. (included)', 'Color Name': 'Black', 'Specification Met': 'Energy Star'}\n",
      "{'price': 'None', 'Brand Name': 'LG', 'Item Weight': '97.4 pounds', 'Product Dimensions': '13.6 x 76.5 x 46.8 inches', 'California residents': 'Click here for Proposition 65 warning', 'Item model number': '86UM8070PUA', 'Color Name': 'Black'}\n",
      "{'price': 'None', 'Brand Name': 'LG', 'Item Weight': '49.6 pounds', 'Product Dimensions': '8.7 x 57 x 34.5 inches', 'California residents': 'Click here for Proposition 65 warning', 'Item model number': 'OLED65B8PUA', 'Batteries': '2 AAA batteries required. (included)'}\n",
      "{'price': 'None', 'Brand Name': 'Samsung', 'Item Weight': '9.5 pounds', 'Product Dimensions': '28.9 x 6.4 x 18.2 inches', 'California residents': 'Click here for Proposition 65 warning', 'Item model number': 'UN32N5300AFXZA', 'Color Name': 'Black'}\n",
      "{'price': 271.77, 'Brand Name': 'Komodo', 'Item Weight': '25 pounds', 'Product Dimensions': '44.2 x 8.5 x 27.6 inches', 'Color Name': 'black'}\n",
      "{'price': 'None', 'Brand Name': 'LG', 'Item Weight': '74.7 pounds', 'Product Dimensions': '9.9 x 57 x 33.9 inches', 'California residents': 'Click here for Proposition 65 warning', 'Item model number': 'OLED65C9PUA', 'Color Name': 'Black'}\n",
      "{'price': 'None', 'Brand Name': 'Samsung', 'Item Weight': '82.7 pounds', 'Product Dimensions': '66.3 x 13.7 x 41.6 inches', 'Item model number': 'UN75NU7100FXZA', 'Batteries': '2 AAA batteries required.', 'Color Name': 'Black', 'Specification Met': '(unset)'}\n",
      "{'price': 'None', 'Brand Name': 'Samsung', 'Item Weight': '55.8 pounds', 'Product Dimensions': '57.4 x 12.5 x 34.9 inches', 'California residents': 'Click here for Proposition 65 warning', 'Item model number': 'UN65NU6900FXZA'}\n",
      "{'price': 'None', 'Brand Name': 'Samsung', 'Item Weight': '60 pounds', 'Product Dimensions': '2.3 x 57.3 x 32.9 inches', 'California residents': 'Click here for Proposition 65 warning', 'Item model number': 'QN65Q60RAFXZA', 'Color Name': 'Black'}\n",
      "{'price': 99.99, 'Brand Name': 'Sceptre', 'Item Weight': '9.65 pounds', 'Product Dimensions': '28.8 x 8 x 18.4 inches', 'Item model number': 'X328BV-SR', 'Batteries': 'Lithium Metal batteries required. (included)', 'Color Name': 'Metal Black', 'Specification Met': 'Energy Star'}\n",
      "{'price': 'None', 'Brand Name': 'Samsung', 'Item Weight': '56 pounds', 'Product Dimensions': '57.2 x 12.3 x 36.1 inches', 'Item model number': 'UN65NU7300FXZA'}\n",
      "{'price': 121.99, 'Brand Name': 'LG', 'Item Weight': '5 pounds', 'Product Dimensions': '21.9 x 2.1 inches', 'California residents': 'Click here for Proposition 65 warning', 'Item model number': '24LH4830-PU', 'Batteries': '2 AAA batteries required. (included)', 'Color Name': 'Black'}\n"
     ]
    },
    {
     "name": "stdout",
     "output_type": "stream",
     "text": [
      "{'price': 119.04, 'Brand Name': 'LG', 'Item Weight': '6.6 pounds', 'Product Dimensions': '20 x 14.1 x 5.8 inches', 'California residents': 'Click here for Proposition 65 warning', 'Item model number': '22LJ4540', 'Batteries': '2 AAA batteries required. (included)', 'Color Name': 'Black', 'Specification Met': 'Energy Star', 'Item Display Height': '5 inches'}\n",
      "{'price': 'None', 'Brand Name': 'Samsung', 'Item Weight': '41.7 pounds', 'Product Dimensions': '48.3 x 12.7 x 31 inches', 'Item model number': 'UN55NU8000FXZA', 'Batteries': '2 AAA batteries required.', 'Color Name': 'Black'}\n",
      "{'price': 547.99, 'Brand Name': 'Samsung', 'Item Weight': '51.6 pounds', 'Product Dimensions': '10.3 x 48.7 x 31.2 inches', 'California residents': 'Click here for Proposition 65 warning'}\n",
      "{'price': 'None', 'Brand Name': 'Sony', 'Item Weight': '69 pounds', 'Product Dimensions': '61 x 7.5 x 37.5 inches', 'California residents': 'Click here for Proposition 65 warning', 'Item model number': 'XBR65X900F', 'Batteries': '2 AA batteries required. (included)', 'Color Name': 'Black', 'Specification Met': '(unset)'}\n",
      "{'price': 'None', 'Brand Name': 'LG', 'Item Weight': '56.9 pounds', 'Product Dimensions': '12.7 x 57.1 x 35.8 inches', 'California residents': 'Click here for Proposition 65 warning', 'Item model number': '65SM8600PUA', 'Color Name': 'Black'}\n",
      "{'price': 129.99, 'Brand Name': 'TCL', 'Item Weight': '9.9 pounds', 'Product Dimensions': '28.9 x 7.2 x 19.2 inches', 'California residents': 'Click here for Proposition 65 warning', 'Item model number': '32D100', 'Batteries': '2 AAA batteries required. (included)'}\n",
      "{'price': 896.99, 'Brand Name': 'LG', 'Item Weight': '69.2 pounds', 'Product Dimensions': '11.8 x 62.1 x 38.7 inches', 'California residents': 'Click here for Proposition 65 warning', 'Item model number': '70UM7370PUA'}\n",
      "{'price': 'None', 'Brand Name': 'Samsung', 'Item Weight': '107.8 pounds', 'Product Dimensions': '1.6 x 57.1 x 32.7 inches', 'California residents': 'Click here for Proposition 65 warning', 'Item model number': 'QN65Q90RAFXZA', 'Batteries': '2 AAA batteries required.', 'Color Name': 'Silver'}\n",
      "{'price': 169.99, 'Brand Name': 'VIZIO', 'Item Weight': '11.46 pounds', 'Product Dimensions': '28.8 x 3 x 17 inches', 'Batteries': '2 AAA batteries required.', 'Item Display Height': '17 inches'}\n",
      "{'price': 'None', 'Brand Name': 'Samsung', 'Item Weight': '111.3 pounds', 'Product Dimensions': '2.4 x 66 x 37.8 inches', 'California residents': 'Click here for Proposition 65 warning', 'Item model number': 'QN75Q80RAFXZA', 'Color Name': 'Silver'}\n",
      "{'price': 'None', 'Brand Name': 'VIZIO', 'Item Weight': '37.8 pounds', 'Package Dimensions': '56.1 x 33 x 7.5 inches', 'Item model number': 'V505-G9'}\n",
      "{'price': 'None', 'Brand Name': 'Samsung', 'Item Weight': '60 pounds', 'Product Dimensions': '56.9 x 13.9 x 36 inches', 'Item model number': 'QN65Q7FNAFXZA', 'Batteries': '2 AAA batteries required.', 'Color Name': 'Black', 'Specification Met': '(unset)'}\n",
      "{'price': 'None', 'Brand Name': 'Samsung', 'Item Weight': '57.8 pounds', 'Product Dimensions': '57.2 x 11.6 x 34.5 inches', 'California residents': 'Click here for Proposition 65 warning', 'Item model number': 'UN65LS03NAFXZA', 'Color Name': 'Charcoal black'}\n",
      "{'price': 'None', 'Brand Name': 'LG', 'Item Weight': '100.8 pounds', 'Product Dimensions': '13.6 x 66.7 x 41.3 inches', 'California residents': 'Click here for Proposition 65 warning', 'Item model number': '75UM7570PUD'}\n",
      "{'price': 'None', 'Brand Name': 'Sony', 'Item Weight': '52.9 pounds', 'Product Dimensions': '35.6 x 13.1 x 57 inches', 'California residents': 'Click here for Proposition 65 warning', 'Item model number': 'XBR65X950G', 'Batteries': '2 AAA batteries required. (included)', 'Color Name': 'Black'}\n",
      "{'price': 'None', 'Brand Name': 'Samsung', 'Item Weight': '58 pounds', 'Product Dimensions': '56.8 x 14.9 x 36 inches', 'Item model number': 'UN65NU8500FXZA', 'Batteries': '2 AAA batteries required.', 'Output Wattage': '40 watts', 'Color Name': 'Black'}\n",
      "{'price': 68.0, 'Brand Name': 'ELEMENT', 'Item Weight': '4.51 pounds', 'Product Dimensions': '17.2 x 6.1 x 11.9 inches', 'Item model number': 'ELEFW195R', 'Speaker Type': 'Built-In'}\n",
      "{'price': 141.87, 'Brand Name': 'VIZIO', 'Item Weight': '7.28 pounds', 'Product Dimensions': '22.1 x 2.4 x 13.2 inches', 'Item model number': 'D24f-F1', 'Batteries': '2 AAA batteries required. (included)'}\n",
      "{'price': 'None', 'Brand Name': 'Sony', 'Item Weight': '26.9 pounds', 'Product Dimensions': '27.3 x 43.3 x 10 inches', 'Item model number': 'XBR49X800E', 'Batteries': '2 AA batteries required. (included)', 'Color Name': 'Black'}\n",
      "{'price': 'None', 'Brand Name': 'Sony', 'Item Weight': '70.5 pounds', 'Product Dimensions': '71 x 7 x 44 inches', 'California residents': 'Click here for Proposition 65 warning', 'Item model number': 'XBR75X800G', 'Batteries': '2 AAA batteries required. (included)', 'Output Wattage': '284 watts', 'Color Name': 'Black', 'Speaker Type': 'Bass Reflex'}\n",
      "{'price': 'None', 'Brand Name': 'LG', 'Item Weight': '7.5 pounds', 'Product Dimensions': '21.9 x 15.2 x 5.8 inches', 'California residents': 'Click here for Proposition 65 warning', 'Item model number': '24LJ4540-WU', 'Batteries': '2 AAA batteries required. (included)', 'Specification Met': 'Energy Star'}\n",
      "{'price': 109.0, 'Brand Name': 'Sansui', 'Item Weight': '6.6 pounds', 'Product Dimensions': '28.7 x 16.9 x 3 inches', 'Item model number': 'S32Z118'}\n",
      "{'price': 67.99, 'Brand Name': 'Sceptre', 'Item Weight': '3.13 pounds', 'Product Dimensions': '16.2 x 11.9 x 5.1 inches', 'Item model number': 'E185BV-SSC', 'Batteries': '2 AAA batteries required. (included)'}\n",
      "{'price': 298.0, 'Brand Name': 'Sony', 'Item Weight': '16.2 pounds', 'Product Dimensions': '6.9 x 29 x 19 inches', 'California residents': 'Click here for Proposition 65 warning', 'Item model number': 'KDL32W600D', 'Batteries': '2 AA batteries required. (included)', 'Color Name': 'Black'}\n",
      "{'price': 'None', 'Brand Name': 'LG', 'Item Weight': '32 pounds', 'Product Dimensions': '9.8 x 43.4 x 28.2 inches', 'California residents': 'Click here for Proposition 65 warning', 'Item model number': '49SK8000', 'Batteries': '2 AAA batteries required. (included)', 'Color Name': 'Grey', 'Specification Met': '(unset)'}\n",
      "{'price': 104.99, 'Product Dimensions': '24.6 x 4.4 x 16.3 inches', 'Item Weight': '6.17 pounds', 'Shipping Weight': '9.1 pounds (View shipping rates and policies)', 'ASIN': 'B07P1NFNKX', 'Batteries': '2 AAA batteries required.', 'Best Sellers Rank': '', 'Date first listed on Amazon': 'February 24, 2019'}\n",
      "{'price': 'None', 'Brand Name': 'LG', 'Item Weight': '91.7 pounds', 'Product Dimensions': '14.6 x 66.3 x 41.1 inches', 'California residents': 'Click here for Proposition 65 warning', 'Item model number': '75SM8670PUA', 'Batteries': '2 AAA batteries required.'}\n",
      "{'price': 'None', 'Brand Name': 'LG', 'Item Weight': '89.9 pounds', 'Product Dimensions': '15.1 x 66 x 40.8 inches', 'California residents': 'Click here for Proposition 65 warning', 'Item model number': '75SM9070PUA', 'Color Name': 'Black'}\n",
      "{'price': 169.99, 'Brand Name': 'Samsung', 'Item Weight': '9.3 pounds', 'Product Dimensions': '28.9 x 6.4 x 18.2 inches', 'Item model number': 'UN32J4001AFXZA', 'Batteries': '2 AAA batteries required.', 'Color Name': 'Black'}\n",
      "{'price': 'None', 'Brand Name': 'Samsung', 'Item Weight': '61.1 pounds', 'Product Dimensions': '56.8 x 14.8 x 36 inches', 'Item model number': 'QN65Q7CNAFXZA', 'Batteries': '2 AAA batteries required.', 'Color Name': 'Black'}\n",
      "{'price': 185.04, 'Brand Name': 'Samsung', 'Item Weight': '9.5 pounds', 'Product Dimensions': '28.9 x 6.4 x 18.2 inches', 'Item model number': 'UN32N5300', 'Color Name': 'Black'}\n",
      "{'price': 189.0, 'Brand Name': 'Samsung', 'Item Weight': '9 pounds', 'Product Dimensions': '29.3 x 5.9 x 18.4 inches', 'Item model number': 'UN32M4500AFXZA'}\n",
      "{'price': 'None', 'Brand Name': 'Sceptre', 'Item Weight': '39 pounds', 'Product Dimensions': '57 x 35 x 10 inches', 'Item model number': 'U65', 'Batteries': '2 AAA batteries required. (included)', 'Color Name': 'Metal Black', 'Specification Met': 'Energy Star'}\n",
      "{'price': 115.0, 'Brand Name': 'ELEMENT', 'Item Weight': '19 pounds', 'Product Dimensions': '36 x 22.6 x 8.7 inches', 'Item model number': 'ELEFW408R'}\n"
     ]
    },
    {
     "name": "stdout",
     "output_type": "stream",
     "text": [
      "{'price': 179.88, 'Brand Name': 'VIZIO', 'Item Weight': '19 pounds', 'Product Dimensions': '14 x 11 x 3 inches', 'Item model number': 'D40F-G9', 'Batteries': '2 AA batteries required.', 'Color Name': 'Black'}\n",
      "{'price': 109.99, 'Brand Name': 'Sceptre', 'Item Weight': '9.65 pounds', 'Product Dimensions': '28.8 x 3 x 17 inches', 'Item model number': 'X328BV-SRR', 'Batteries': '2 AAA batteries required. (included)', 'Color Name': 'Metal black', 'Specification Met': 'Energy Star'}\n",
      "{'price': 'None', 'Brand Name': 'SunBriteTV', 'Item Weight': '50 pounds', 'Product Dimensions': '49.4 x 28.7 x 3.5 inches', 'Item model number': 'SB-V-55-4KHDR-BL', 'Color Name': 'black'}\n",
      "{'price': 569.99, 'Brand Name': 'VIZIO', 'Item Weight': '35.9 pounds', 'Product Dimensions': '48.6 x 10 x 30.6 inches', 'Item model number': 'M558-G1'}\n",
      "{'price': 499.99, 'Brand Name': 'Hisense', 'Item Weight': '45 pounds', 'Package Dimensions': '53.5 x 33.8 x 6.3 inches', 'Item model number': '55H8F'}\n",
      "{'price': 'None', 'Brand Name': 'Samsung', 'Item Weight': '62.8 pounds', 'Product Dimensions': '57.1 x 14.2 x 34.1 inches', 'Item model number': 'QN65Q9FNAFXZA', 'Batteries': '2 AAA batteries required.', 'Color Name': 'Black', 'Specification Met': '(unset)'}\n",
      "{'price': 'None', 'Brand Name': 'VIZIO', 'Item Weight': '54.3 pounds', 'Product Dimensions': '57 x 2.7 x 32.7 inches', 'Item model number': 'P659-G1'}\n",
      "{'price': 109.99, 'Brand Name': 'PHILIPS', 'Item Weight': '12.25 pounds', 'Package Dimensions': '33.4 x 23 x 6.3 inches'}\n",
      "{'price': 29.44, 'Product Dimensions': '2 x 1.4 x 7.5 inches', 'Item Weight': '2.4 ounces', 'Shipping Weight': '8.8 ounces (View shipping rates and policies)', 'ASIN': 'B07QH3KFJJ', 'Item model number': 'AN-MR19BA', 'Best Sellers Rank': '', 'Date first listed on Amazon': 'April 9, 2019'}\n",
      "{'price': 177.99, 'Brand Name': 'Samsung', 'Item Weight': '9.5 pounds', 'Product Dimensions': '28.9 x 6.4 x 18.2 inches', 'Item model number': 'UN32M4500BFXZA', 'Color Name': 'Black'}\n",
      "{'price': 'None', 'Brand Name': 'Sony', 'Item Weight': '141 pounds', 'Package Dimensions': '80.5 x 48.5 x 11 inches', 'Item model number': 'XBR85X850G', 'Color Name': 'Black'}\n",
      "{'price': 84.99, 'Brand Name': 'Sceptre', 'Item Weight': '5 pounds', 'Product Dimensions': '21.9 x 15.5 x 14.4 inches', 'Item model number': 'E246BV-SR', 'Batteries': '2 AAA batteries required. (included)', 'Color Name': 'True Black', 'Specification Met': 'Energy Star'}\n",
      "{'price': 'None', 'Brand Name': 'LG', 'Item Weight': '42.8 pounds', 'Product Dimensions': '3.5 x 53.9 x 31.3 inches', 'Item model number': '60UK6090PUA'}\n",
      "{'price': 'None', 'Brand Name': 'LG', 'Item Weight': '75 pounds', 'Product Dimensions': '11.7 x 61.9 x 38.6 inches', 'California residents': 'Click here for Proposition 65 warning', 'Item model number': '70UK6570PUB', 'Batteries': '2 AAA batteries required. (included)', 'Output Wattage': '20 watts', 'Color Name': 'Grey'}\n",
      "{'price': 'None', 'Brand Name': 'Samsung', 'Item Weight': '92.8 pounds', 'Product Dimensions': '1.4 x 66 x 38 inches', 'California residents': 'Click here for Proposition 65 warning', 'Item model number': 'QN75Q900RBFXZA', 'Color Name': 'Black'}\n",
      "{'price': 189.99, 'Brand Name': 'TCL', 'Item Weight': '26.4 pounds', 'Package Dimensions': '46.6 x 29.7 x 7.5 inches', 'Item model number': '43S423'}\n",
      "{'price': 'None', 'Brand Name': 'SunBriteTV', 'Item Weight': '41.5 pounds', 'Product Dimensions': '39 x 2.7 x 23 inches', 'Item model number': 'SB-SE-43-4K-BL', 'Color Name': 'Black', 'Speaker Type': 'Included 20-WATT Detachable Sound Bar'}\n",
      "{'price': 90.29, 'Brand Name': 'Pyle', 'Item Weight': '42 pounds', 'Product Dimensions': '12 x 49 x 30 inches', 'Item model number': 'PTVLED15'}\n",
      "{'price': 598.0, 'Brand Name': 'Sony', 'Item Weight': '22.5 pounds', 'Product Dimensions': '42 x 6 x 27 inches', 'California residents': 'Click here for Proposition 65 warning', 'Item model number': 'XBR43X800G', 'Color Name': 'Black'}\n",
      "{'price': 'None', 'Brand Name': 'LG', 'Item Weight': '55.6 pounds', 'Product Dimensions': '57 x 32.7 x 1.8 inches', 'Item model number': 'E2LGOLED65C9'}\n",
      "{'price': 'None', 'Brand Name': 'Sony', 'Item Weight': '30 pounds', 'Product Dimensions': '41.5 x 26 x 6 inches', 'California residents': 'Click here for Proposition 65 warning', 'Item model number': 'XBR43X800E', 'Batteries': '2 AA batteries required. (included)', 'Color Name': 'Black'}\n",
      "{'price': 'None', 'Brand Name': 'Samsung', 'Item Weight': '44.1 pounds', 'Product Dimensions': '48.5 x 27.8 x 2.3 inches', 'Item model number': 'QN55Q8FNBFXZA', 'Batteries': '2 AAA batteries required.', 'Color Name': 'Black', 'Specification Met': '(unset)'}\n",
      "{'price': 363.4, 'Brand Name': 'Samsung', 'Item Weight': '19 pounds', 'Product Dimensions': '36.3 x 13.3 x 23.4 inches', 'Item model number': 'M530D'}\n",
      "{'price': 279.99, 'Brand Name': 'Hisense', 'Item Weight': '30 pounds', 'Product Dimensions': '44.4 x 9.7 x 27.7 inches', 'Item model number': '50R7E'}\n",
      "{'price': 339.99, 'Brand Name': 'Samsung', 'Item Weight': '30.4 pounds', 'Product Dimensions': '44.3 x 9.5 x 27.3 inches', 'Item model number': 'UN50NU6900FXZA'}\n",
      "{'price': 849.99, 'Brand Name': 'LG', 'Item Weight': '75 pounds', 'Product Dimensions': '11.7 x 61.9 x 38.6 inches', 'Batteries': '2 AAA batteries required.', 'Output Wattage': '20 watts', 'Color Name': 'Grey'}\n",
      "{'price': 'None', 'Brand Name': 'LG', 'Item Weight': '61.9 pounds', 'Product Dimensions': '12.8 x 57.3 x 35.7 inches', 'California residents': 'Click here for Proposition 65 warning', 'Item model number': '65SM9000PUA', 'Batteries': '2 AAA batteries required.', 'Color Name': 'Black'}\n",
      "{'price': 89.99, 'Brand Name': 'LG', 'Item Weight': '8 pounds', 'Product Dimensions': '15.6 x 27.7 x 4.4 inches', 'Item model number': '24LF454B', 'Batteries': '2 AA batteries required.', 'Color Name': 'black', 'Item Display Height': '5 inches'}\n",
      "{'price': 529.99, 'Brand Name': 'LG', 'Item Weight': '30.9 pounds', 'Product Dimensions': '3.4 x 49 x 28.6 inches', 'Item model number': 'E3LG55UM7300'}\n",
      "{'price': 259.95, 'Brand Name': 'Samsung', 'Item Weight': '16.3 pounds', 'Product Dimensions': '38.1 x 8.9 x 24.4 inches'}\n",
      "{'price': 'None', 'Brand Name': 'Samsung', 'Item Weight': '33 pounds', 'Product Dimensions': '3.1 x 38.1 x 22.5 inches', 'Item model number': 'UN43NU6950FXZA'}\n",
      "{'price': 649.99, 'Brand Name': 'Samsung', 'Item Weight': '39 pounds', 'Product Dimensions': '48.3 x 9.8 x 30.7 inches', 'Item model number': 'QN55Q65FNFXZA', 'Color Name': 'Black'}\n",
      "{'price': 'None', 'Product Dimensions': '28.8 x 3 x 17 inches', 'Item Weight': '11.46 pounds', 'Shipping Weight': '16.09 pounds', 'ASIN': 'B07195FH8G', 'Item model number': 'D32f-F1', 'Batteries': '2 AAA batteries required. (included)', 'Best Sellers Rank': '', 'Date first listed on Amazon': 'May 4, 2017'}\n",
      "{'price': 319.99, 'Brand Name': 'Sceptre', 'Item Weight': '30.9 pounds', 'Product Dimensions': '48.8 x 10.6 x 30.5 inches', 'Item model number': 'U558CV-UMC', 'Batteries': '2 AAA batteries required. (included)', 'Color Name': 'Metal black', 'Specification Met': 'Energy Star'}\n",
      "{'price': 'None', 'Brand Name': 'Sceptre', 'Item Weight': '45.6 pounds'}\n",
      "{'price': 'None', 'Brand Name': 'LG', 'Item Weight': '24.9 pounds', 'Product Dimensions': '9.3 x 43.7 x 27.8 inches', 'California residents': 'Click here for Proposition 65 warning', 'Item model number': '49UK6300PUE', 'Batteries': '2 AAA batteries required. (included)', 'Color Name': 'Brown', 'Specification Met': '(unset)'}\n",
      "{'price': 'None', 'Brand Name': 'LG', 'Item Weight': '36.4 pounds', 'Product Dimensions': '9.1 x 48.7 x 30.7 inches', 'California residents': 'Click here for Proposition 65 warning', 'Item model number': '55UK7700', 'Batteries': '2 AAA batteries required. (included)', 'Color Name': 'Silver'}\n",
      "{'price': 'None', 'Brand Name': 'VIZIO', 'Item Weight': '74 pounds', 'Package Dimensions': '68 x 40 x 7 inches', 'Item model number': 'PQ65-F1'}\n",
      "{'price': 169.99, 'Brand Name': 'LG', 'Item Weight': '11.2 pounds', 'Product Dimensions': '7.1 x 29.2 x 18.6 inches', 'Item model number': '32LM620BPUA'}\n",
      "{'price': 352.23, 'Brand Name': 'Samsung', 'Item Weight': '19 pounds', 'Product Dimensions': '36.3 x 13.3 x 23.4 inches', 'Item model number': 'UN40M5300AFXZA', 'Color Name': 'Black'}\n"
     ]
    },
    {
     "name": "stdout",
     "output_type": "stream",
     "text": [
      "{'price': 'None', 'Brand Name': 'LG', 'Item Weight': '48.3 pounds', 'Product Dimensions': '8.7 x 48.3 x 30.9 inches', 'California residents': 'Click here for Proposition 65 warning', 'Item model number': 'OLED55E8PUA', 'Batteries': '2 AA batteries required. (included)', 'Color Name': 'Black', 'Specification Met': '(unset)'}\n",
      "{'price': 'None', 'Brand Name': 'Tyler', 'Item Weight': '4.27 pounds', 'Product Dimensions': '16 x 11 x 5 inches', 'Item model number': 'TTV902-15', 'Batteries': '2 AA batteries required. (included)', 'Color Name': 'Black'}\n",
      "{'price': 'None', 'Brand Name': 'Samsung', 'Item Weight': '8.8 pounds', 'Product Dimensions': '29.3 x 5.9 x 18.4 inches', 'Item model number': 'UN32J4000EFXZA'}\n",
      "{'price': 194.99, 'Brand Name': 'TCL', 'Item Weight': '13.4 pounds', 'Product Dimensions': '35.6 x 7.2 x 22.7 inches', 'Batteries': '2 AAA batteries required.'}\n",
      "{'price': 'None', 'Brand Name': 'Sceptre', 'Item Weight': '45.5 pounds', 'Product Dimensions': '57.3 x 10.5 x 35.4 inches', 'Item model number': 'U658CV-UMRR', 'Batteries': '2 AAA batteries required. (included)', 'Color Name': 'Metal black', 'Specification Met': 'Energy Star'}\n",
      "{'price': 249.99, 'Brand Name': 'Sceptre', 'Item Weight': '22 pounds', 'Product Dimensions': '43 x 28 x 11 inches', 'Item model number': 'U508CV-UMC', 'Color Name': 'Just Black'}\n",
      "{'price': 179.88, 'Brand Name': 'VIZIO', 'Item Weight': '15 pounds', 'Product Dimensions': '14 x 11 x 3 inches', 'Item model number': 'D40f-G9', 'Batteries': '2 AA batteries required.', 'Color Name': 'Black'}\n",
      "{'price': 99.99, 'Brand Name': 'Sceptre', 'Item Weight': '6.42 pounds', 'Product Dimensions': '21.9 x 11.5 x 14.4 inches', 'Item model number': 'E249BD-SR', 'Batteries': '2 AAA batteries required. (included)', 'Color Name': 'True black', 'Specification Met': 'Energy Star'}\n",
      "{'price': 239.99, 'Brand Name': 'Sceptre', 'Item Weight': '29 pounds', 'Product Dimensions': '44.5 x 10.8 x 28.5 inches', 'Item model number': 'U518CV-UMS', 'Batteries': '2 AAA batteries required. (included)', 'Color Name': 'True black', 'Specification Met': 'Energy Star'}\n",
      "{'price': 796.99, 'Brand Name': 'LG', 'Item Weight': '37.9 pounds', 'Product Dimensions': '48.5 x 28.2 x 2.5 inches', 'Item model number': 'E2LG55SM8600'}\n",
      "{'price': 254.95, 'Brand Name': 'Samsung', 'Item Weight': '16.3 pounds', 'Product Dimensions': '38.1 x 8.9 x 24.4 inches', 'Item model number': 'UN43J5202AFXZA', 'Specification Met': 'Energy Star', 'Item Display Height': '27 inches'}\n",
      "{'price': 84.99, 'Brand Name': 'Sceptre', 'Item Weight': '5.15 pounds', 'Product Dimensions': '21.9 x 5.5 x 14.4 inches', 'Item model number': 'E249BV-SR', 'Batteries': '2 AAA batteries required. (included)', 'Color Name': 'Fine black'}\n",
      "{'price': 799.99, 'Brand Name': 'Samsung', 'Item Weight': '58.2 pounds', 'Product Dimensions': '56.9 x 13.8 x 35.8 inches', 'Batteries': '2 AAA batteries required.', 'Color Name': 'Black'}\n"
     ]
    }
   ],
   "source": [
    "url_query = product_info_collection.find({}, {'_id': 0, 'url': 1})\n",
    "for item in url_query:\n",
    "    \n",
    "    product_info_dictionary = obtain_product_info_dict(item['url'])\n",
    "    update = {'$set': product_info_dictionary}\n",
    "    product_info_collection.update_many(item, update)\n",
    "    print(product_info_dictionary)\n",
    "    "
   ]
  },
  {
   "cell_type": "code",
   "execution_count": 23,
   "metadata": {},
   "outputs": [
    {
     "name": "stdout",
     "output_type": "stream",
     "text": [
      "{'url': 'https://www.amazon.com/Toshiba-32LF221U19-32-inch-720p-Smart/dp/B07FPR6FMJ', 'price': 179.99, 'Brand Name': 'Toshiba', 'Item Weight': '10.6 pounds', 'Product Dimensions': '7.1 x 29 x 18.6 inches', 'Item model number': '32LF221U19', 'Batteries': '2 AAA batteries required. (included)'}\n",
      "{'url': 'https://www.amazon.com/TCL-50S425-inch-Smart-Roku/dp/B07JK98NNQ', 'price': 'None', 'Brand Name': 'TCL', 'Item Weight': '23.6 pounds', 'Product Dimensions': '44.1 x 8 x 28 inches', 'Item model number': '50S425', 'Batteries': '2 AAA batteries required.'}\n",
      "{'url': 'https://www.amazon.com/Insignia-NS-50DF710NA19-50-inch-Ultra-Smart/dp/B07FPQ343D', 'price': 299.99, 'Brand Name': 'Insignia', 'Item Weight': '25.8 pounds', 'Product Dimensions': '10.4 x 44.4 x 27.8 inches', 'Item model number': 'NS-50DF710NA19', 'Batteries': '2 AAA batteries required. (included)'}\n",
      "{'url': 'https://www.amazon.com/TCL-32S325-Inch-720p-Smart/dp/B07G9XZ83W', 'price': 129.99, 'Brand Name': 'TCL', 'Item Weight': '8.6 pounds', 'Product Dimensions': '28.8 x 6.8 x 19 inches', 'Item model number': '32S325', 'Batteries': '2 AAA batteries required. (included)'}\n",
      "{'url': 'https://www.amazon.com/Samsung-UN65RU7100FXZA-Flat-UHD-Smart/dp/B07NC96MBL', 'price': 697.99, 'Brand Name': 'Samsung', 'Item Weight': '58.2 pounds', 'Product Dimensions': '12.3 x 57.4 x 36.1 inches', 'California residents': 'Click here for Proposition 65 warning', 'Item model number': 'UN65RU7100FXZA', 'Color Name': 'Black'}\n"
     ]
    }
   ],
   "source": [
    "for i in product_info_collection.find({}, {'_id':0}).limit( 5 ):\n",
    "    print(i)"
   ]
  },
  {
   "cell_type": "code",
   "execution_count": null,
   "metadata": {},
   "outputs": [],
   "source": []
  },
  {
   "cell_type": "code",
   "execution_count": null,
   "metadata": {},
   "outputs": [],
   "source": [
    "product_info_collection.delete_many({})"
   ]
  },
  {
   "cell_type": "code",
   "execution_count": null,
   "metadata": {},
   "outputs": [],
   "source": [
    "product_info_collection.count_documents({})"
   ]
  },
  {
   "cell_type": "code",
   "execution_count": null,
   "metadata": {},
   "outputs": [],
   "source": []
  }
 ],
 "metadata": {
  "kernelspec": {
   "display_name": "Python 3",
   "language": "python",
   "name": "python3"
  },
  "language_info": {
   "codemirror_mode": {
    "name": "ipython",
    "version": 3
   },
   "file_extension": ".py",
   "mimetype": "text/x-python",
   "name": "python",
   "nbconvert_exporter": "python",
   "pygments_lexer": "ipython3",
   "version": "3.7.2"
  }
 },
 "nbformat": 4,
 "nbformat_minor": 2
}
