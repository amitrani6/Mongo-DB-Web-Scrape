{
 "cells": [
  {
   "cell_type": "markdown",
   "metadata": {},
   "source": [
    "# Web Scrape Amazon Page Notebook\n",
    "I will be web scraping the data that will go into a MongoDB database."
   ]
  },
  {
   "cell_type": "code",
   "execution_count": 1,
   "metadata": {},
   "outputs": [],
   "source": [
    "#Imports the BeautifulSoup module from library bs4\n",
    "import requests\n",
    "from bs4 import BeautifulSoup\n",
    "headers = {'user-agent': 'Mozilla/5.0 (Macintosh; Intel Mac OS X 10_11_6) AppleWebKit/537.36 (KHTML, like Gecko) Chrome/53.0.2785.143 Safari/537.36'}"
   ]
  },
  {
   "cell_type": "code",
   "execution_count": 2,
   "metadata": {},
   "outputs": [],
   "source": [
    "import pymongo\n",
    "\n",
    "client = pymongo.MongoClient(\"mongodb://127.0.0.1:27017/\")\n",
    "db = client['television_data']"
   ]
  },
  {
   "cell_type": "code",
   "execution_count": 3,
   "metadata": {},
   "outputs": [
    {
     "data": {
      "text/plain": [
       "['example_database', 'lab_db', 'local', 'television_data', 'test']"
      ]
     },
     "execution_count": 3,
     "metadata": {},
     "output_type": "execute_result"
    }
   ],
   "source": [
    "client.list_database_names()"
   ]
  },
  {
   "cell_type": "code",
   "execution_count": 4,
   "metadata": {},
   "outputs": [],
   "source": [
    "#Create a collection (table) to store the product information\n",
    "product_info_collection = db['product_information']"
   ]
  },
  {
   "cell_type": "code",
   "execution_count": 5,
   "metadata": {},
   "outputs": [
    {
     "data": {
      "text/plain": [
       "0"
      ]
     },
     "execution_count": 5,
     "metadata": {},
     "output_type": "execute_result"
    }
   ],
   "source": [
    "product_info_collection.count_documents({})"
   ]
  },
  {
   "cell_type": "markdown",
   "metadata": {},
   "source": [
    "# Webscrape Part 1: Obtain Individual Item Links\n",
    "\n",
    "## Part A: Obtain The First Page of Results\n",
    "\n",
    "I will be web scraping Amazon's most featured televisions page. I will first store the urls of each individual television.\n",
    "\n",
    "The first results page has a different format than the following pages. I will not create a function for the first page because of this reason.\n",
    "\n",
    "After I obtain the first few links I will add them to a new MongoDB collection.\n",
    "\n",
    "Sometimes Amazon puts sponsored links in the results on the first page, this can be detected by the length of the results list."
   ]
  },
  {
   "cell_type": "code",
   "execution_count": 6,
   "metadata": {},
   "outputs": [],
   "source": [
    "#The link to the first page of results for televisions on Amazon, sorted by the default \"Featured\" option\n",
    "amazon_first_page_url_tvs = 'https://www.amazon.com/s/ref=lp_1266092011_nr_n_12?fst=as%3Aoff&rh=n%3A172282%2Cn%3A%21493964%2Cn%3A1266092011%2Cn%3A172659&bbn=1266092011&ie=UTF8&qid=1564525104&rnid=1266092011'\n"
   ]
  },
  {
   "cell_type": "code",
   "execution_count": 7,
   "metadata": {},
   "outputs": [
    {
     "name": "stdout",
     "output_type": "stream",
     "text": [
      "Attempts to load first page : 1\n",
      "Attempts to load first page : 2\n"
     ]
    }
   ],
   "source": [
    "length_first_page_html_split_by_result = 0\n",
    "\n",
    "attempts_count = 1\n",
    "\n",
    "while length_first_page_html_split_by_result != 25:\n",
    "\n",
    "    #Access the first page of search results for televisions on Amazon\n",
    "    amazon_first_page_url_tvs_html = requests.get(amazon_first_page_url_tvs, headers=headers, timeout=5).text #it will keep trying at this stage, the loop will not continue to iterate until a response is given\n",
    "    amazon_first_page_url_tvs_content = BeautifulSoup(amazon_first_page_url_tvs_html, 'html.parser')\n",
    "\n",
    "    first_page_html_split_by_result = str(amazon_first_page_url_tvs_content).split('result_')\n",
    "    length_first_page_html_split_by_result = len(first_page_html_split_by_result)\n",
    "    \n",
    "    print(\"Attempts to load first page : {}\".format(attempts_count))\n",
    "    attempts_count += 1\n",
    "    \n",
    "    "
   ]
  },
  {
   "cell_type": "code",
   "execution_count": 8,
   "metadata": {},
   "outputs": [],
   "source": [
    "first_page_tv_links = []\n",
    "\n",
    "for i in first_page_html_split_by_result[1:]:\n",
    "    \n",
    "    tv_link = BeautifulSoup(i, 'html.parser').find('a', class_=\"a-link-normal a-text-normal\")['href'].split('/ref')[0]\n",
    "    \n",
    "    first_page_tv_links.append({'url': tv_link})\n",
    "    "
   ]
  },
  {
   "cell_type": "code",
   "execution_count": 9,
   "metadata": {
    "scrolled": true
   },
   "outputs": [
    {
     "data": {
      "text/plain": [
       "24"
      ]
     },
     "execution_count": 9,
     "metadata": {},
     "output_type": "execute_result"
    }
   ],
   "source": [
    "len(first_page_tv_links)"
   ]
  },
  {
   "cell_type": "markdown",
   "metadata": {},
   "source": [
    "## Part B: Add The First Page Of Results To Mongo"
   ]
  },
  {
   "cell_type": "code",
   "execution_count": 10,
   "metadata": {},
   "outputs": [],
   "source": [
    "insertion_results = product_info_collection.insert_many(first_page_tv_links)"
   ]
  },
  {
   "cell_type": "code",
   "execution_count": 11,
   "metadata": {},
   "outputs": [
    {
     "name": "stdout",
     "output_type": "stream",
     "text": [
      "{'url': 'https://www.amazon.com/Toshiba-32LF221U19-32-inch-720p-Smart/dp/B07FPR6FMJ'}\n",
      "{'url': 'https://www.amazon.com/TCL-50S425-inch-Smart-Roku/dp/B07JK98NNQ'}\n",
      "{'url': 'https://www.amazon.com/Insignia-NS-50DF710NA19-50-inch-Ultra-Smart/dp/B07FPQ343D'}\n",
      "{'url': 'https://www.amazon.com/TCL-32S325-Inch-720p-Smart/dp/B07G9XZ83W'}\n",
      "{'url': 'https://www.amazon.com/Samsung-UN65RU7100FXZA-Flat-UHD-Smart/dp/B07NC96MBL'}\n"
     ]
    }
   ],
   "source": [
    "query_1 = product_info_collection.find({}, {'_id': 0, 'url': 1})\n",
    "for item in query_1[:5]:\n",
    "    print(item)"
   ]
  },
  {
   "cell_type": "markdown",
   "metadata": {},
   "source": [
    "# Web Scrape Part 2: Obtain The Subsequent Pages of Results"
   ]
  },
  {
   "cell_type": "code",
   "execution_count": 12,
   "metadata": {},
   "outputs": [],
   "source": [
    "def return_page_tv_links(url):\n",
    "    \n",
    "    amazon_page_tv_html = requests.get(url, headers=headers, timeout=5).text\n",
    "    amazon_page_tv_html_content = BeautifulSoup(str(BeautifulSoup(amazon_page_tv_html, 'html.parser')), 'html.parser')\n",
    "\n",
    "    html_tv_urls = amazon_page_tv_html_content.find('div', class_ = 's-result-list s-search-results sg-row')\n",
    "    html_list_of_tv_urls = html_tv_urls.find_all('a', class_ = 'a-link-normal a-text-normal')\n",
    "    html_list_of_tv_urls = html_list_of_tv_urls[:24]\n",
    "    \n",
    "    list_of_dictionaries_of_television_urls = []\n",
    "    \n",
    "    for i in html_list_of_tv_urls:\n",
    "        list_of_dictionaries_of_television_urls.append({'url': 'https://www.amazon.com' + i['href'].split('/ref')[0]})\n",
    "    \n",
    "    return list_of_dictionaries_of_television_urls"
   ]
  },
  {
   "cell_type": "code",
   "execution_count": 13,
   "metadata": {
    "scrolled": true
   },
   "outputs": [
    {
     "data": {
      "text/plain": [
       "{'url': 'https://www.amazon.com/LG-86UM8070-LG86UM8070PUA-86UM8070PUA-86UM8070P/dp/B07Q2T13PX'}"
      ]
     },
     "execution_count": 13,
     "metadata": {},
     "output_type": "execute_result"
    }
   ],
   "source": [
    "return_page_tv_links('https://www.amazon.com/s?rh=n%3A172282%2Cn%3A%21493964%2Cn%3A1266092011%2Cn%3A172659&page=13&qid=1564698515&ref=lp_172659_pg_2')[0]"
   ]
  },
  {
   "cell_type": "code",
   "execution_count": 14,
   "metadata": {},
   "outputs": [],
   "source": [
    "def obtain_urls(start_page = False, end_page = False):\n",
    "    amazon_tvs_url = 'https://www.amazon.com/s?rh=n%3A172282%2Cn%3A%21493964%2Cn%3A1266092011%2Cn%3A172659&page={}&qid=1564698515&ref=lp_172659_pg_2'\n",
    "    \n",
    "    if not start_page:\n",
    "        start_page = 2\n",
    "        \n",
    "    if not end_page:\n",
    "        end_page = 100\n",
    "    \n",
    "    for i in range(start_page, end_page+1):\n",
    "        one_page_of_amazon_tvs_url = amazon_tvs_url.format(str(i))\n",
    "        product_info_collection.insert_many(return_page_tv_links(one_page_of_amazon_tvs_url))\n",
    "        print('The total number of tv urls added are: {}'.format(product_info_collection.count_documents({})))"
   ]
  },
  {
   "cell_type": "code",
   "execution_count": 15,
   "metadata": {
    "scrolled": false
   },
   "outputs": [
    {
     "name": "stdout",
     "output_type": "stream",
     "text": [
      "The total number of tv urls added are: 48\n",
      "The total number of tv urls added are: 72\n",
      "The total number of tv urls added are: 96\n",
      "The total number of tv urls added are: 120\n"
     ]
    }
   ],
   "source": [
    "obtain_urls(start_page = 0, end_page = 5)"
   ]
  },
  {
   "cell_type": "markdown",
   "metadata": {},
   "source": [
    "# Web Scrape Part 3: Obtaining Product Information From The Product Page"
   ]
  },
  {
   "cell_type": "code",
   "execution_count": 16,
   "metadata": {},
   "outputs": [
    {
     "name": "stdout",
     "output_type": "stream",
     "text": [
      "{'_id': ObjectId('5d43e7eaa384871da82a98c0'), 'url': 'https://www.amazon.com/Toshiba-32LF221U19-32-inch-720p-Smart/dp/B07FPR6FMJ'}\n",
      "{'_id': ObjectId('5d43e7eaa384871da82a98c1'), 'url': 'https://www.amazon.com/TCL-50S425-inch-Smart-Roku/dp/B07JK98NNQ'}\n",
      "{'_id': ObjectId('5d43e7eaa384871da82a98c2'), 'url': 'https://www.amazon.com/Insignia-NS-50DF710NA19-50-inch-Ultra-Smart/dp/B07FPQ343D'}\n",
      "{'_id': ObjectId('5d43e7eaa384871da82a98c3'), 'url': 'https://www.amazon.com/TCL-32S325-Inch-720p-Smart/dp/B07G9XZ83W'}\n",
      "{'_id': ObjectId('5d43e7eaa384871da82a98c4'), 'url': 'https://www.amazon.com/Samsung-UN65RU7100FXZA-Flat-UHD-Smart/dp/B07NC96MBL'}\n"
     ]
    }
   ],
   "source": [
    "for i in product_info_collection.find({}).limit( 5 ):\n",
    "    print(i)"
   ]
  },
  {
   "cell_type": "code",
   "execution_count": 17,
   "metadata": {},
   "outputs": [],
   "source": [
    "def obtain_product_info_dict(tv_url):\n",
    "    individual_tv_page = requests.get(tv_url, headers=headers, timeout=5).text\n",
    "    individual_tv_page_content = BeautifulSoup(str(BeautifulSoup(individual_tv_page, 'html.parser')), 'html.parser')\n",
    "    \n",
    "    product_info_dict = {}\n",
    "    \n",
    "    price_number_with_spaces = individual_tv_page_content.find(class_ = 'a-size-medium a-color-price')\n",
    "    \n",
    "    try:\n",
    "        price_number = float(price_number_with_spaces.text.split('$')[1].split(\"\\n\")[0])\n",
    "    except:\n",
    "        price_number = 'None'\n",
    "        \n",
    "    product_info_dict['price'] = price_number\n",
    "            \n",
    "    \n",
    "    tech_specs_table = individual_tv_page_content.find('table', class_ = 'a-keyvalue prodDetTable')\n",
    "    \n",
    "    \n",
    "    for i in range(0, len(tech_specs_table.find_all('th'))):\n",
    "        \n",
    "        try:\n",
    "            tech_key = tech_specs_table.find_all('th')[i].text.split('\\n')[1].split('  ')[-1]\n",
    "            tech_value = tech_specs_table.find_all('td')[i].text.split('\\n')[1].split('  ')[-1]\n",
    "    \n",
    "            product_info_dict[tech_key] = tech_value\n",
    "        except:\n",
    "            pass\n",
    "        \n",
    "    return product_info_dict"
   ]
  },
  {
   "cell_type": "code",
   "execution_count": 18,
   "metadata": {},
   "outputs": [
    {
     "data": {
      "text/plain": [
       "{'price': 179.99,\n",
       " 'Brand Name': 'Toshiba',\n",
       " 'Item Weight': '10.6 pounds',\n",
       " 'Product Dimensions': '7.1 x 29 x 18.6 inches',\n",
       " 'Item model number': '32LF221U19',\n",
       " 'Batteries': '2 AAA batteries required. (included)'}"
      ]
     },
     "execution_count": 18,
     "metadata": {},
     "output_type": "execute_result"
    }
   ],
   "source": [
    "obtain_product_info_dict('https://www.amazon.com/Toshiba-32LF221U19-32-inch-720p-Smart/dp/B07FPR6FMJ')"
   ]
  },
  {
   "cell_type": "code",
   "execution_count": 19,
   "metadata": {},
   "outputs": [
    {
     "data": {
      "text/plain": [
       "{'price': 104.99,\n",
       " 'Product Dimensions': '24.6 x 4.4 x 16.3 inches',\n",
       " 'Item Weight': '6.17 pounds',\n",
       " 'Shipping Weight': '9.1 pounds (View shipping rates and policies)',\n",
       " 'ASIN': 'B07P1NFNKX',\n",
       " 'Batteries': '2 AAA batteries required.',\n",
       " 'Best Sellers Rank': '',\n",
       " 'Date first listed on Amazon': 'February 24, 2019'}"
      ]
     },
     "execution_count": 19,
     "metadata": {},
     "output_type": "execute_result"
    }
   ],
   "source": [
    "obtain_product_info_dict('https://www.amazon.com/VIZIO-Class-LED-HDTV-Smart/dp/B07P1NFNKX')"
   ]
  },
  {
   "cell_type": "markdown",
   "metadata": {},
   "source": [
    "# Update The MongoDB With Product Information"
   ]
  },
  {
   "cell_type": "code",
   "execution_count": 20,
   "metadata": {},
   "outputs": [],
   "source": [
    "url_query = product_info_collection.find({}, {'_id': 0, 'url': 1})\n",
    "for item in url_query:\n",
    "    \n",
    "    product_info_dictionary = obtain_product_info_dict(item['url'])\n",
    "    update = {'$set': product_info_dictionary}\n",
    "    product_info_collection.update_many(item, update)\n",
    "    "
   ]
  },
  {
   "cell_type": "code",
   "execution_count": 21,
   "metadata": {},
   "outputs": [
    {
     "name": "stdout",
     "output_type": "stream",
     "text": [
      "{'url': 'https://www.amazon.com/Toshiba-32LF221U19-32-inch-720p-Smart/dp/B07FPR6FMJ', 'price': 179.99, 'Brand Name': 'Toshiba', 'Item Weight': '10.6 pounds', 'Product Dimensions': '7.1 x 29 x 18.6 inches', 'Item model number': '32LF221U19', 'Batteries': '2 AAA batteries required. (included)'}\n",
      "{'url': 'https://www.amazon.com/TCL-50S425-inch-Smart-Roku/dp/B07JK98NNQ', 'price': 'None', 'Brand Name': 'TCL', 'Item Weight': '23.6 pounds', 'Product Dimensions': '44.1 x 8 x 28 inches', 'Item model number': '50S425', 'Batteries': '2 AAA batteries required.'}\n",
      "{'url': 'https://www.amazon.com/Insignia-NS-50DF710NA19-50-inch-Ultra-Smart/dp/B07FPQ343D', 'price': 299.99, 'Brand Name': 'Insignia', 'Item Weight': '25.8 pounds', 'Product Dimensions': '10.4 x 44.4 x 27.8 inches', 'Item model number': 'NS-50DF710NA19', 'Batteries': '2 AAA batteries required. (included)'}\n",
      "{'url': 'https://www.amazon.com/TCL-32S325-Inch-720p-Smart/dp/B07G9XZ83W', 'price': 129.99, 'Brand Name': 'TCL', 'Item Weight': '8.6 pounds', 'Product Dimensions': '28.8 x 6.8 x 19 inches', 'Item model number': '32S325', 'Batteries': '2 AAA batteries required. (included)'}\n",
      "{'url': 'https://www.amazon.com/Samsung-UN65RU7100FXZA-Flat-UHD-Smart/dp/B07NC96MBL', 'price': 697.99, 'Brand Name': 'Samsung', 'Item Weight': '58.2 pounds', 'Product Dimensions': '12.3 x 57.4 x 36.1 inches', 'California residents': 'Click here for Proposition 65 warning', 'Item model number': 'UN65RU7100FXZA', 'Color Name': 'Black'}\n"
     ]
    }
   ],
   "source": [
    "for i in product_info_collection.find({}, {'_id':0}).limit( 5 ):\n",
    "    print(i)"
   ]
  },
  {
   "cell_type": "markdown",
   "metadata": {},
   "source": [
    "# Export The Mongo Database\n",
    "\n",
    "If you want to share the database you can export it.\n",
    "\n",
    "In a terminal window (not the mongo shell) type the following syntax:\n",
    "\n",
    "mongodump --collection myCollection --db test\n",
    "\n",
    "For instance:\n",
    "\n",
    "mongodump --collection product_information --db television_data"
   ]
  },
  {
   "cell_type": "code",
   "execution_count": null,
   "metadata": {},
   "outputs": [],
   "source": []
  }
 ],
 "metadata": {
  "kernelspec": {
   "display_name": "Python 3",
   "language": "python",
   "name": "python3"
  },
  "language_info": {
   "codemirror_mode": {
    "name": "ipython",
    "version": 3
   },
   "file_extension": ".py",
   "mimetype": "text/x-python",
   "name": "python",
   "nbconvert_exporter": "python",
   "pygments_lexer": "ipython3",
   "version": "3.7.2"
  }
 },
 "nbformat": 4,
 "nbformat_minor": 2
}
